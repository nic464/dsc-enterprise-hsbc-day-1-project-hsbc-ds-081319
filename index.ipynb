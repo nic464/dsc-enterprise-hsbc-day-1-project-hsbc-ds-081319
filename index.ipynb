{
 "cells": [
  {
   "cell_type": "markdown",
   "metadata": {},
   "source": [
    "# Project: Analyzing Macbeth"
   ]
  },
  {
   "cell_type": "markdown",
   "metadata": {},
   "source": [
    "## Introduction\n",
    "For our first day and first data science project, we're going to do some rudimentry analysis of Shakespeare's classic play: Macbeth! You will get practice working with lists, condtionals and dictionaries, visualizing data, and thinking analytically about data."
   ]
  },
  {
   "cell_type": "markdown",
   "metadata": {},
   "source": [
    "## Objectives\n",
    "You will be able to:\n",
    "* Show mastery of the content covered in this section"
   ]
  },
  {
   "cell_type": "markdown",
   "metadata": {},
   "source": [
    "### Getting the Data\n",
    "Here we start by importing a python package and using it to pull the transcript of Macbeth from the project Gutenberg website. We also preview a few details about what is now stored in the variable macbeth; it's a string with 119,846 characters, the first 500 of which are printed below. "
   ]
  },
  {
   "cell_type": "code",
   "execution_count": 2,
   "metadata": {},
   "outputs": [
    {
     "name": "stdout",
     "output_type": "stream",
     "text": [
      "<class 'str'>\n",
      "120253\n",
      "﻿\r\n",
      "\r\n",
      "***The Project Gutenberg's Etext of Shakespeare's First Folio***\r\n",
      "********************The Tragedie of Macbeth*********************\r\n",
      "\r\n",
      "\r\n",
      "\r\n",
      "*******************************************************************\r\n",
      "THIS EBOOK WAS ONE OF PROJECT GUTENBERG'S EARLY FILES PRODUCED AT A\r\n",
      "TIME WHEN PROOFING METHODS AND TOOLS WERE NOT WELL DEVELOPED. THERE\r\n",
      "IS AN IMPROVED EDITION OF THIS TITLE WHICH MAY BE VIEWED AS EBOOK\r\n",
      "(#1533) at https://www.gutenberg.org/ebooks/1533\r\n",
      "*********************************\n"
     ]
    }
   ],
   "source": [
    "import requests\n",
    "macbeth = requests.get('http://www.gutenberg.org/cache/epub/2264/pg2264.txt').text\n",
    "\n",
    "print(type(macbeth))\n",
    "print(len(macbeth))\n",
    "print(macbeth[:500])"
   ]
  },
  {
   "cell_type": "markdown",
   "metadata": {},
   "source": [
    "### Your Task\n",
    "\n",
    "Your task is to create a bar graph of the 25 most common words in the Shakespeare's Macbeth.  \n",
    "\n",
    "\n",
    "A common python programming pattern to counting objects, produce histograms, or update statistics is to make calls to a dictionary as you iterate through a list. For example, given a list of words, you can create a dictionary to store counts and then iterate through the list of words, checking how many times each word has appeared using your dictionary, and updating the dictionary count now that you've seen that word again. The `dictionary.get()` method is very useful in doing this. Read the docstring for the dictionary.get() method and use it along with the pseudocode above to create a bar graph of the 25 most common words from the transcript of Macbeth which has been loaded into a variable 'Macbeth'. Be sure to include a title and appropriate labels for your graph."
   ]
  },
  {
   "cell_type": "code",
   "execution_count": 4,
   "metadata": {},
   "outputs": [
    {
     "data": {
      "text/plain": [
       "{'\\ufeff': 1,\n",
       " '\\r': 3675,\n",
       " '\\n': 3675,\n",
       " '*': 299,\n",
       " 'T': 825,\n",
       " 'h': 5123,\n",
       " 'e': 11558,\n",
       " ' ': 19515,\n",
       " 'P': 185,\n",
       " 'r': 4945,\n",
       " 'o': 6678,\n",
       " 'j': 36,\n",
       " 'c': 1988,\n",
       " 't': 7144,\n",
       " 'G': 223,\n",
       " 'u': 3034,\n",
       " 'n': 5354,\n",
       " 'b': 1207,\n",
       " 'g': 1371,\n",
       " \"'\": 669,\n",
       " 's': 4980,\n",
       " 'E': 352,\n",
       " 'x': 195,\n",
       " 'f': 1550,\n",
       " 'S': 564,\n",
       " 'a': 6082,\n",
       " 'k': 678,\n",
       " 'p': 1109,\n",
       " 'F': 254,\n",
       " 'i': 4627,\n",
       " 'l': 3390,\n",
       " 'd': 3224,\n",
       " 'M': 630,\n",
       " 'H': 335,\n",
       " 'I': 636,\n",
       " 'B': 352,\n",
       " 'O': 211,\n",
       " 'K': 113,\n",
       " 'W': 505,\n",
       " 'A': 507,\n",
       " 'N': 239,\n",
       " 'R': 217,\n",
       " 'J': 9,\n",
       " 'C': 312,\n",
       " 'U': 47,\n",
       " 'L': 333,\n",
       " 'Y': 81,\n",
       " 'D': 267,\n",
       " 'V': 70,\n",
       " '.': 1399,\n",
       " '(': 46,\n",
       " '#': 2,\n",
       " '1': 53,\n",
       " '5': 4,\n",
       " '3': 36,\n",
       " ')': 47,\n",
       " ':': 496,\n",
       " '/': 17,\n",
       " 'w': 1556,\n",
       " 'm': 1988,\n",
       " 'y': 1911,\n",
       " 'v': 357,\n",
       " ',': 2120,\n",
       " '!': 18,\n",
       " '9': 12,\n",
       " '7': 3,\n",
       " '2': 43,\n",
       " '0': 33,\n",
       " '[': 23,\n",
       " '6': 5,\n",
       " '4': 5,\n",
       " ']': 23,\n",
       " 'z': 30,\n",
       " '$': 1,\n",
       " '-': 116,\n",
       " '+': 1,\n",
       " '%': 3,\n",
       " '=': 2,\n",
       " '~': 2,\n",
       " ';': 58,\n",
       " '\"': 50,\n",
       " '8': 2,\n",
       " '<': 1,\n",
       " '@': 7,\n",
       " '>': 1,\n",
       " 'X': 10,\n",
       " '?': 246,\n",
       " 'q': 112,\n",
       " 'Q': 19,\n",
       " '_': 1,\n",
       " '&': 20}"
      ]
     },
     "execution_count": 4,
     "metadata": {},
     "output_type": "execute_result"
    }
   ],
   "source": [
    "# Your code here\n",
    "words = {}\n",
    "\n",
    "for x in macbeth:\n",
    "    if x not in words:\n",
    "        words[x] = 1\n",
    "    else:\n",
    "        words[x] += 1\n",
    "# Pseudo-code Outline\n",
    "# Split the transcript into words\n",
    "# Create a dictionary\n",
    "# Iterate through the text of Macbeth\n",
    "# Update word counts\n",
    "# Create Bar Graph\n",
    "# Include descriptive titles and labels\n",
    "words"
   ]
  },
  {
   "cell_type": "markdown",
   "metadata": {},
   "source": [
    "### Level Up (Optional)\n",
    "This project should take you about an hour and a half to complete. If you're done much more quickly than that and are not behind in the course, feel free to deepen your knowledge by completing any or all of the following tasks until you run out of time:\n",
    "* Create a list of top characters by mentions of their names \n",
    "* Split the text by which character is talking\n",
    "* Create sub graphs of the most common words by character\n",
    "* Reduce the string to the text of the play itself. (Remove any initial notes, forward, introduction, appendix, etc.)\n",
    "* Come up with some other fun analyses of the text!"
   ]
  },
  {
   "cell_type": "markdown",
   "metadata": {},
   "source": [
    "## Summary\n",
    "Congratulations! You've got some extra practice combining various data types into useful programming patterns and done an intitial analysis of a classic text!"
   ]
  }
 ],
 "metadata": {
  "kernelspec": {
   "display_name": "Python 3",
   "language": "python",
   "name": "python3"
  },
  "language_info": {
   "codemirror_mode": {
    "name": "ipython",
    "version": 3
   },
   "file_extension": ".py",
   "mimetype": "text/x-python",
   "name": "python",
   "nbconvert_exporter": "python",
   "pygments_lexer": "ipython3",
   "version": "3.6.6"
  }
 },
 "nbformat": 4,
 "nbformat_minor": 2
}
