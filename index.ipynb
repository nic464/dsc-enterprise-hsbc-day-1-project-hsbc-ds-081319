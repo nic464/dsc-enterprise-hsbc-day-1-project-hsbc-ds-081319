{
 "cells": [
  {
   "cell_type": "markdown",
   "metadata": {},
   "source": [
    "# Project: Analyzing Macbeth"
   ]
  },
  {
   "cell_type": "markdown",
   "metadata": {},
   "source": [
    "## Introduction\n",
    "For our first day and first data science project, we're going to do some rudimentry analysis of Shakespeare's classic play: Macbeth! You will get practice working with lists, condtionals and dictionaries, visualizing data, and thinking analytically about data."
   ]
  },
  {
   "cell_type": "markdown",
   "metadata": {},
   "source": [
    "## Objectives\n",
    "You will be able to:\n",
    "* Show mastery of the content covered in this section"
   ]
  },
  {
   "cell_type": "markdown",
   "metadata": {},
   "source": [
    "### Getting the Data\n",
    "Here we start by importing a python package and using it to pull the transcript of Macbeth from the project Gutenberg website. We also preview a few details about what is now stored in the variable macbeth; it's a string with 119,846 characters, the first 500 of which are printed below. "
   ]
  },
  {
   "cell_type": "code",
   "execution_count": 2,
   "metadata": {},
   "outputs": [
    {
     "name": "stdout",
     "output_type": "stream",
     "text": [
      "<class 'str'>\n",
      "120253\n",
      "﻿\r\n",
      "\r\n",
      "***The Project Gutenberg's Etext of Shakespeare's First Folio***\r\n",
      "********************The Tragedie of Macbeth*********************\r\n",
      "\r\n",
      "\r\n",
      "\r\n",
      "*******************************************************************\r\n",
      "THIS EBOOK WAS ONE OF PROJECT GUTENBERG'S EARLY FILES PRODUCED AT A\r\n",
      "TIME WHEN PROOFING METHODS AND TOOLS WERE NOT WELL DEVELOPED. THERE\r\n",
      "IS AN IMPROVED EDITION OF THIS TITLE WHICH MAY BE VIEWED AS EBOOK\r\n",
      "(#1533) at https://www.gutenberg.org/ebooks/1533\r\n",
      "*********************************\n"
     ]
    }
   ],
   "source": [
    "import requests\n",
    "macbeth = requests.get('http://www.gutenberg.org/cache/epub/2264/pg2264.txt').text\n",
    "\n",
    "print(type(macbeth))\n",
    "print(len(macbeth))\n",
    "print(macbeth[:500])"
   ]
  },
  {
   "cell_type": "markdown",
   "metadata": {},
   "source": [
    "### Your Task\n",
    "\n",
    "Your task is to create a bar graph of the 25 most common words in the Shakespeare's Macbeth.  \n",
    "\n",
    "\n",
    "A common python programming pattern to counting objects, produce histograms, or update statistics is to make calls to a dictionary as you iterate through a list. For example, given a list of words, you can create a dictionary to store counts and then iterate through the list of words, checking how many times each word has appeared using your dictionary, and updating the dictionary count now that you've seen that word again. The `dictionary.get()` method is very useful in doing this. Read the docstring for the dictionary.get() method and use it along with the pseudocode above to create a bar graph of the 25 most common words from the transcript of Macbeth which has been loaded into a variable 'Macbeth'. Be sure to include a title and appropriate labels for your graph."
   ]
  },
  {
   "cell_type": "code",
   "execution_count": 41,
   "metadata": {},
   "outputs": [
    {
     "data": {
      "text/plain": [
       "dict_values([20, 3, 24, 389, 6, 18, 5, 52, 187, 118, 2, 26, 31, 1, 30, 638, 2, 69, 1, 83, 2, 4, 137, 3, 368, 5, 101, 127, 3, 17, 1, 19, 244, 2, 1, 4, 189, 121, 1, 211, 2, 4, 56, 1, 2, 1, 1, 1, 3, 2, 39, 150, 2, 5, 3, 1, 1, 2, 55, 11, 1, 430, 1, 6, 13, 3, 1, 1, 1, 13, 15, 2, 2, 81, 6, 1, 1, 42, 1, 59, 2, 1, 60, 1, 45, 3, 2, 3, 4, 2, 1, 3, 3, 1, 142, 20, 1, 2, 32, 1, 4, 33, 5, 2, 1, 1, 27, 9, 1, 2, 2, 23, 3, 1, 1, 9, 11, 25, 4, 1, 1, 1, 37, 7, 1, 1, 1, 22, 31, 7, 73, 17, 11, 2, 1, 1, 2, 1, 151, 158, 1, 1, 1, 1, 1, 70, 86, 3, 7, 3, 4, 1, 35, 13, 2, 9, 3, 3, 11, 2, 4, 5, 4, 5, 1, 1, 1, 1, 1, 2, 1, 1, 3, 2, 2, 1, 2, 48, 4, 1, 1, 1, 45, 2, 1, 74, 1, 1, 3, 2, 1, 1, 1, 1, 11, 2, 4, 1, 1, 1, 5, 4, 2, 5, 7, 2, 2, 1, 1, 1, 2, 19, 1, 1, 1, 1, 1, 1, 2, 2, 2, 1, 1, 43, 1, 1, 3, 1, 5, 1, 2, 7, 14, 3, 1, 1, 1, 1, 1, 22, 2, 2, 1, 4, 1, 1, 3, 1, 1, 2, 1, 13, 1, 1, 2, 35, 1, 4, 1, 3, 1, 1, 1, 1, 1, 3, 1, 1, 13, 1, 1, 1, 14, 1, 1, 1, 3, 11, 2, 1, 1, 1, 1, 2, 1, 1, 1, 5, 1, 1, 1, 8, 4, 1, 1, 9, 2, 1, 1, 2, 1, 3, 5, 6, 3, 1, 8, 3, 1, 25, 2, 3, 3, 12, 5, 18, 2, 3, 1, 26, 4, 6, 2, 2, 4, 2, 2, 2, 3, 4, 5, 3, 12, 3, 1, 4, 34, 2, 2, 34, 1, 1, 1, 1, 1, 1, 61, 1, 11, 1, 1, 2, 1, 1, 3, 2, 2, 1, 1, 1, 1, 1, 68, 2, 1, 1, 4, 1, 1, 1, 1, 7, 1, 1, 1, 3, 1, 1, 18, 4, 1, 2, 1, 1, 1, 2, 1, 2, 1, 1, 2, 1, 1, 1, 27, 1, 4, 5, 1, 1, 2, 2, 5, 1, 1, 2, 1, 1, 1, 1, 1, 1, 1, 10, 1, 2, 1, 3, 2, 1, 2, 1, 1, 4, 1, 2, 2, 1, 1, 1, 2, 1, 1, 1, 1, 1, 2, 1, 1, 6, 1, 2, 2, 5, 27, 1, 1, 8, 4, 2, 2, 1, 1, 1, 1, 1, 4, 1, 1, 2, 1, 1, 1, 1, 15, 1, 1, 1, 2, 1, 2, 1, 2, 9, 1, 3, 1, 1, 2, 2, 2, 1, 1, 2, 1, 1, 1, 2, 2, 5, 1, 1, 1, 34, 1, 1, 1, 1, 1, 1, 1, 1, 1, 1, 1, 1, 2, 1, 1, 4, 1, 2, 2, 2, 1, 1, 1, 1, 7, 1, 3, 4, 3, 10, 18, 1, 9, 2, 22, 1, 35, 2, 1, 1, 1, 2, 8, 11, 1, 1, 12, 1, 1, 1, 2, 3, 21, 39, 15, 1, 2, 5, 1, 1, 1, 1, 1, 1, 1, 39, 3, 1, 1, 2, 1, 1, 1, 1, 2, 1, 1, 1, 2, 5, 2, 11, 1, 1, 1, 31, 6, 3, 1, 2, 194, 6, 62, 1, 5, 2, 1, 1, 1, 1, 9, 4, 87, 27, 1, 1, 1, 1, 1, 10, 1, 132, 10, 1, 2, 1, 1, 1, 1, 1, 3, 1, 1, 87, 1, 1, 5, 4, 3, 1, 2, 5, 1, 2, 6, 1, 2, 1, 1, 1, 1, 1, 1, 1, 1, 40, 1, 2, 1, 2, 1, 6, 1, 1, 1, 1, 1, 3, 2, 1, 6, 1, 1, 1, 2, 1, 1, 1, 1, 1, 1, 1, 1, 1, 87, 34, 1, 3, 1, 8, 1, 1, 1, 2, 18, 13, 49, 5, 1, 1, 1, 3, 13, 21, 43, 1, 2, 1, 5, 5, 1, 2, 42, 1, 3, 23, 3, 2, 12, 19, 1, 1, 3, 25, 1, 4, 1, 11, 2, 75, 2, 10, 3, 2, 1, 1, 30, 2, 1, 56, 1, 1, 2, 1, 1, 1, 1, 3, 1, 4, 3, 2, 1, 1, 4, 18, 31, 21, 4, 2, 1, 1, 1, 1, 1, 1, 1, 1, 7, 5, 1, 1, 1, 5, 1, 4, 3, 1, 16, 5, 2, 1, 1, 1, 2, 3, 3, 1, 2, 6, 2, 2, 2, 1, 2, 3, 18, 1, 1, 1, 9, 1, 1, 1, 1, 2, 1, 1, 30, 1, 7, 1, 1, 10, 1, 1, 2, 1, 1, 1, 1, 2, 1, 28, 2, 7, 47, 3, 3, 47, 1, 1, 13, 43, 8, 21, 1, 1, 18, 3, 16, 11, 1, 1, 1, 2, 1, 1, 2, 4, 4, 1, 12, 2, 3, 1, 1, 1, 8, 1, 3, 3, 1, 1, 1, 5, 1, 1, 1, 1, 1, 1, 1, 4, 3, 1, 4, 5, 2, 26, 38, 13, 7, 10, 1, 1, 1, 31, 1, 34, 2, 1, 1, 1, 1, 1, 1, 6, 5, 13, 1, 3, 1, 17, 1, 21, 108, 1, 1, 1, 1, 1, 2, 11, 1, 1, 2, 1, 1, 1, 13, 1, 1, 2, 6, 3, 3, 9, 2, 7, 4, 10, 20, 1, 2, 137, 20, 22, 5, 6, 4, 1, 2, 3, 21, 1, 47, 3, 3, 5, 1, 7, 1, 1, 1, 1, 1, 1, 10, 1, 6, 24, 17, 3, 3, 13, 3, 1, 1, 6, 3, 9, 1, 1, 2, 1, 1, 2, 1, 2, 3, 9, 6, 5, 1, 1, 1, 11, 23, 1, 1, 1, 1, 8, 1, 1, 1, 1, 1, 2, 4, 1, 3, 3, 1, 2, 3, 1, 1, 3, 5, 2, 4, 2, 1, 2, 1, 1, 2, 3, 1, 1, 1, 1, 2, 1, 1, 1, 3, 7, 2, 1, 1, 1, 3, 2, 16, 2, 1, 6, 4, 3, 1, 2, 1, 9, 3, 1, 1, 4, 5, 4, 2, 2, 1, 1, 1, 1, 1, 1, 2, 1, 1, 1, 3, 2, 1, 5, 2, 8, 2, 1, 1, 31, 1, 1, 39, 1, 2, 3, 1, 1, 13, 1, 1, 1, 2, 1, 4, 1, 1, 1, 6, 6, 2, 3, 1, 1, 1, 14, 7, 2, 13, 2, 10, 5, 7, 3, 3, 1, 1, 6, 1, 3, 3, 3, 1, 2, 1, 6, 1, 1, 1, 1, 3, 2, 1, 2, 2, 5, 1, 10, 1, 1, 1, 27, 2, 10, 11, 2, 20, 1, 1, 4, 4, 1, 1, 5, 4, 5, 12, 2, 1, 1, 5, 4, 2, 1, 11, 10, 2, 1, 1, 6, 3, 1, 1, 1, 7, 11, 1, 2, 1, 1, 1, 1, 1, 2, 5, 1, 1, 2, 1, 4, 3, 1, 1, 3, 5, 2, 2, 8, 1, 1, 1, 1, 1, 1, 1, 3, 4, 1, 4, 4, 1, 1, 1, 2, 1, 2, 2, 1, 1, 1, 1, 2, 1, 9, 1, 4, 1, 2, 1, 2, 1, 5, 10, 5, 6, 4, 6, 1, 2, 6, 4, 2, 1, 1, 5, 4, 3, 7, 1, 4, 1, 39, 3, 1, 1, 5, 4, 5, 3, 1, 5, 1, 1, 1, 1, 2, 1, 1, 1, 2, 1, 2, 2, 2, 1, 20, 3, 2, 2, 1, 6, 3, 1, 3, 1, 1, 1, 1, 2, 6, 4, 1, 1, 3, 4, 1, 1, 2, 2, 1, 1, 1, 1, 1, 2, 1, 7, 6, 1, 1, 2, 1, 4, 1, 1, 1, 5, 4, 1, 5, 2, 1, 1, 1, 1, 1, 1, 3, 10, 4, 1, 2, 3, 1, 1, 2, 2, 6, 1, 1, 1, 1, 2, 2, 10, 1, 1, 1, 1, 3, 1, 6, 6, 6, 1, 1, 6, 2, 5, 2, 1, 9, 1, 1, 7, 6, 7, 1, 2, 2, 1, 8, 2, 3, 3, 1, 1, 1, 1, 5, 2, 1, 1, 1, 1, 3, 1, 1, 1, 1, 1, 1, 5, 1, 3, 1, 1, 11, 1, 2, 1, 1, 1, 1, 15, 1, 1, 8, 3, 1, 1, 1, 1, 1, 1, 1, 1, 3, 2, 21, 3, 2, 1, 3, 17, 1, 2, 3, 3, 1, 1, 1, 1, 1, 1, 1, 1, 1, 14, 1, 2, 1, 1, 1, 1, 1, 1, 2, 1, 14, 1, 5, 1, 2, 1, 2, 2, 9, 1, 1, 1, 2, 1, 1, 1, 1, 1, 2, 2, 1, 1, 1, 2, 6, 2, 2, 2, 2, 4, 1, 1, 1, 1, 2, 1, 1, 1, 1, 1, 2, 1, 1, 2, 1, 2, 1, 1, 2, 1, 1, 1, 11, 2, 4, 2, 1, 4, 2, 1, 1, 1, 1, 1, 1, 2, 1, 1, 4, 1, 1, 1, 1, 1, 2, 1, 2, 2, 2, 1, 6, 3, 2, 3, 1, 1, 1, 1, 1, 1, 1, 1, 1, 3, 1, 12, 1, 1, 8, 1, 1, 1, 1, 1, 11, 2, 3, 1, 1, 1, 1, 1, 1, 2, 1, 6, 1, 4, 4, 1, 1, 4, 6, 16, 1, 1, 1, 2, 2, 1, 1, 1, 2, 3, 7, 2, 1, 1, 3, 1, 1, 1, 1, 1, 1, 1, 1, 3, 1, 1, 1, 1, 1, 1, 1, 1, 2, 1, 8, 4, 4, 2, 1, 1, 1, 1, 2, 7, 1, 1, 1, 1, 6, 1, 4, 1, 2, 1, 1, 3, 2, 1, 1, 2, 1, 2, 1, 1, 1, 2, 1, 1, 1, 2, 1, 1, 1, 3, 1, 1, 4, 1, 2, 1, 1, 1, 4, 4, 1, 2, 1, 1, 1, 3, 1, 1, 1, 1, 3, 1, 1, 1, 1, 2, 2, 1, 1, 4, 2, 2, 13, 1, 1, 2, 2, 1, 3, 1, 4, 2, 1, 2, 3, 2, 3, 1, 1, 3, 1, 1, 1, 1, 1, 3, 10, 1, 1, 1, 2, 1, 1, 1, 1, 2, 2, 1, 2, 1, 1, 3, 1, 5, 2, 1, 1, 1, 2, 1, 1, 1, 4, 1, 1, 1, 1, 1, 1, 3, 1, 1, 1, 3, 5, 1, 6, 1, 2, 1, 1, 1, 1, 2, 4, 1, 4, 1, 1, 1, 1, 1, 1, 2, 1, 1, 1, 2, 1, 1, 1, 2, 1, 3, 1, 1, 1, 2, 1, 1, 1, 1, 12, 1, 1, 1, 1, 1, 4, 4, 4, 58, 2, 3, 2, 1, 1, 2, 1, 1, 1, 1, 2, 4, 1, 1, 1, 1, 1, 1, 2, 1, 2, 1, 1, 2, 15, 1, 3, 1, 2, 2, 1, 1, 1, 1, 1, 1, 3, 1, 1, 4, 1, 1, 1, 1, 1, 1, 1, 1, 1, 1, 1, 1, 1, 1, 1, 1, 1, 4, 3, 2, 1, 1, 1, 3, 5, 1, 1, 1, 2, 1, 1, 1, 2, 1, 2, 1, 1, 1, 1, 1, 1, 1, 2, 6, 1, 1, 1, 1, 1, 1, 1, 1, 1, 2, 7, 4, 1, 1, 1, 4, 1, 1, 1, 1, 1, 1, 3, 1, 1, 2, 1, 1, 1, 1, 4, 1, 1, 1, 1, 3, 1, 3, 2, 2, 1, 1, 2, 1, 4, 1, 1, 1, 1, 1, 1, 3, 1, 1, 1, 1, 5, 1, 1, 1, 1, 1, 3, 1, 1, 1, 1, 1, 1, 1, 3, 1, 1, 2, 1, 1, 2, 3, 1, 1, 1, 1, 1, 1, 15, 1, 1, 15, 1, 2, 1, 2, 6, 1, 1, 1, 1, 1, 1, 1, 1, 1, 1, 1, 1, 1, 1, 2, 1, 1, 1, 1, 2, 1, 1, 1, 3, 1, 1, 1, 1, 2, 1, 1, 1, 1, 1, 1, 3, 4, 1, 1, 1, 3, 1, 3, 1, 2, 1, 2, 1, 4, 1, 1, 1, 1, 1, 1, 1, 1, 2, 2, 1, 6, 1, 1, 1, 5, 1, 1, 3, 3, 1, 1, 1, 1, 1, 1, 1, 1, 1, 4, 1, 4, 1, 1, 1, 3, 1, 1, 1, 2, 1, 2, 1, 1, 1, 1, 1, 1, 1, 4, 1, 1, 3, 3, 2, 1, 1, 2, 1, 1, 1, 1, 1, 1, 1, 1, 1, 1, 6, 1, 1, 1, 1, 1, 1, 1, 3, 2, 1, 1, 1, 1, 1, 3, 1, 3, 5, 6, 1, 7, 1, 1, 2, 2, 1, 1, 1, 3, 1, 1, 1, 2, 3, 1, 4, 3, 1, 1, 5, 1, 1, 1, 1, 1, 1, 1, 1, 1, 1, 1, 1, 1, 1, 1, 1, 1, 1, 2, 4, 1, 1, 1, 3, 2, 1, 1, 1, 1, 1, 2, 1, 1, 1, 1, 1, 2, 1, 1, 1, 5, 1, 1, 1, 3, 2, 3, 1, 1, 3, 1, 3, 1, 1, 1, 1, 1, 1, 1, 1, 2, 1, 1, 1, 6, 3, 2, 1, 2, 1, 1, 1, 2, 1, 1, 2, 1, 1, 2, 1, 1, 1, 2, 1, 1, 1, 1, 3, 2, 1, 1, 1, 2, 1, 2, 1, 1, 1, 1, 1, 2, 1, 1, 1, 1, 1, 1, 1, 1, 1, 1, 1, 2, 1, 2, 2, 1, 1, 1, 1, 1, 1, 1, 1, 1, 1, 2, 1, 2, 1, 1, 1, 1, 1, 3, 1, 2, 1, 1, 1, 1, 1, 1, 1, 1, 1, 1, 1, 1, 1, 1, 1, 2, 1, 1, 1, 1, 1, 1, 1, 1, 1, 1, 1, 5, 3, 1, 1, 1, 1, 2, 1, 1, 1, 1, 1, 1, 2, 1, 5, 1, 2, 7, 2, 1, 4, 1, 1, 2, 1, 1, 1, 1, 1, 1, 1, 1, 3, 1, 1, 1, 2, 1, 4, 2, 1, 1, 1, 1, 2, 1, 1, 4, 1, 1, 1, 3, 1, 1, 1, 2, 1, 1, 1, 1, 2, 1, 1, 2, 1, 1, 1, 1, 1, 1, 1, 1, 1, 1, 1, 2, 1, 1, 1, 1, 1, 1, 1, 1, 1, 1, 1, 1, 1, 1, 1, 1, 3, 1, 1, 1, 1, 3, 1, 1, 1, 3, 2, 2, 1, 1, 2, 1, 1, 2, 1, 1, 1, 1, 1, 1, 1, 1, 1, 2, 1, 1, 1, 1, 1, 1, 1, 1, 1, 1, 1, 1, 1, 1, 1, 1, 1, 2, 1, 1, 2, 2, 2, 3, 1, 1, 5, 1, 1, 3, 2, 1, 1, 1, 1, 1, 1, 2, 1, 1, 1, 1, 1, 1, 1, 2, 1, 1, 3, 1, 1, 1, 1, 2, 1, 2, 3, 2, 2, 2, 1, 1, 1, 1, 1, 1, 1, 1, 1, 1, 1, 3, 2, 1, 1, 1, 1, 1, 1, 1, 1, 1, 1, 1, 1, 1, 1, 2, 1, 1, 2, 1, 5, 1, 1, 1, 2, 1, 1, 1, 1, 2, 1, 1, 2, 1, 1, 1, 1, 2, 2, 1, 1, 1, 1, 1, 1, 1, 1, 1, 1, 1, 1, 1, 6, 2, 1, 6, 1, 5, 2, 1, 1, 1, 3, 1, 3, 1, 2, 1, 1, 1, 1, 1, 1, 1, 1, 1, 1, 1, 1, 2, 1, 1, 2, 1, 1, 1, 1, 2, 1, 1, 1, 1, 2, 2, 1, 1, 1, 2, 1, 4, 5, 1, 1, 2, 1, 4, 1, 1, 1, 1, 3, 1, 1, 2, 1, 1, 1, 1, 1, 1, 1, 1, 1, 1, 1, 1, 1, 1, 1, 1, 1, 1, 1, 1, 1, 1, 1, 1, 1, 4, 1, 2, 1, 1, 1, 1, 1, 1, 1, 1, 1, 1, 1, 3, 1, 1, 1, 1, 1, 1, 1, 1, 1, 1, 1, 1, 1, 1, 1, 1, 1, 1, 2, 1, 1, 4, 2, 4, 1, 1, 1, 1, 1, 1, 1, 2, 1, 1, 8, 2, 1, 1, 1, 1, 1, 1, 1, 2, 1, 1, 1, 2, 1, 1, 1, 1, 1, 2, 1, 1, 1, 6, 1, 2, 2, 1, 1, 1, 2, 1, 1, 1, 1, 1, 2, 1, 2, 2, 1, 1, 1, 2, 1, 1, 1, 1, 1, 1, 1, 1, 1, 1, 1, 1, 1, 1, 1, 1, 1, 1, 1, 1, 1, 1, 1, 1, 1, 1, 2, 2, 1, 2, 1, 1, 1, 1, 2, 1, 1, 1, 1, 1, 1, 1, 1, 1, 1, 16, 2, 1, 1, 1, 1, 1, 3, 1, 1, 1, 1, 1, 1, 1, 1, 1, 3, 1, 2, 1, 1, 1, 2, 1, 1, 2, 1, 1, 1, 1, 1, 1, 1, 1, 1, 5, 1, 2, 1, 1, 2, 1, 1, 1, 1, 4, 1, 4, 1, 1, 1, 1, 1, 1, 1, 1, 1, 1, 1, 1, 1, 1, 2, 1, 1, 1, 1, 1, 1, 1, 1, 3, 1, 1, 1, 1, 1, 1, 1, 2, 1, 1, 1, 1, 1, 1, 1, 1, 1, 1, 1, 1, 1, 1, 1, 2, 1, 1, 1, 2, 1, 1, 1, 1, 1, 1, 2, 1, 1, 1, 3, 2, 2, 1, 1, 1, 1, 1, 1, 1, 1, 1, 1, 1, 1, 1, 1, 1, 2, 1, 1, 1, 1, 1, 1, 1, 1, 3, 2, 1, 1, 1, 1, 1, 1, 1, 1, 1, 1, 1, 1, 1, 1, 1, 1, 1, 1, 1, 1, 1, 1, 1, 2, 1, 1, 1, 1, 1, 1, 1, 1, 1, 1, 1, 1, 1, 1, 1, 1, 6, 2, 1, 1, 1, 1, 1, 1, 1, 1, 1, 2, 1, 1, 1, 1, 1, 1, 1, 1, 1, 1, 2, 1, 1, 2, 1, 1, 2, 1, 1, 1, 1, 1, 1, 1, 1, 1, 1, 1, 1, 1, 1, 1, 1, 1, 1, 1, 1, 1, 6, 1, 1, 1, 1, 20, 1, 2, 1, 1, 1, 1, 1, 2, 1, 1, 1, 1, 1, 1, 1, 1, 1, 2, 1, 1, 1, 1, 1, 1, 1, 1, 1, 1, 3, 1, 1, 1, 1, 1, 1, 1, 1, 1, 1, 1, 1, 1, 1, 1, 1, 1, 1, 1, 1, 1, 1, 1, 1, 1, 1, 1, 1, 1, 1, 1, 1, 1, 1, 1, 1, 1, 1, 2, 1, 1, 1, 1, 1, 1, 1, 1, 1, 1, 1, 2, 2, 1, 1, 1, 1, 1, 1, 1, 1, 2, 1, 1, 1, 1, 1, 1, 1, 1, 1, 1, 1, 1, 1, 1, 1, 1, 1, 1, 1, 2, 1, 2, 1, 1, 1, 1, 4, 2, 1, 1, 2, 11, 1, 1, 1, 1, 1, 1, 1, 1, 1, 1, 1, 1, 1, 1, 1, 1, 1, 2, 1, 1, 1, 1, 1, 1, 2, 1, 1, 1, 1, 1, 1, 1, 3, 1, 1, 1, 1, 1, 1, 1, 1, 1, 1, 1, 1, 1, 1, 1, 1, 1, 1, 1, 1, 1, 1, 1, 1, 1, 1, 1, 1, 1, 1, 1, 1, 1, 2, 1, 1, 1, 1, 1, 1, 1, 1, 2, 5, 1, 1, 1, 1, 3, 1, 1, 1, 1, 1, 5, 1, 1, 1, 1, 1, 1, 1, 1, 1, 1, 1, 1, 1, 1, 1, 1, 1, 2, 1, 1, 1, 1, 1, 1, 4, 1, 1, 2, 1, 1, 1, 1, 1, 1, 3, 1, 3, 1, 1, 3, 1, 1, 1, 1, 3, 1, 1, 1, 1, 1, 1, 1, 1, 1, 1, 1, 13, 1, 3, 1, 1, 1, 1, 1, 1, 1, 1, 1, 2, 1, 1, 1, 1, 1, 1, 1, 1, 1, 1, 4, 1, 1, 1, 1, 1, 1, 1, 1, 1, 1, 1, 1, 1, 1, 1, 1, 1, 1, 1, 1, 1, 1, 1, 1, 1, 1, 1, 1, 1, 1, 1, 1, 1, 1, 1, 1, 1, 1, 1, 1, 1, 2, 1, 1, 1, 1, 1, 1, 1, 1, 1, 1, 1, 1, 1, 1, 1, 1, 1, 1, 1, 1, 1, 1, 1, 1, 1, 1, 1, 1, 1, 1, 1, 1, 1, 1, 1, 1, 1, 1, 1, 1, 1, 1, 5, 1, 1, 1, 1, 1, 1, 1, 1, 1, 1, 1, 1, 1, 1, 1, 4, 1, 1, 1, 1, 1, 1, 1, 1, 1, 1, 1, 1, 1, 1, 1, 1, 1, 1, 1, 1, 1, 1, 1, 1, 1, 1, 1, 1, 1, 1, 1, 1, 1, 1, 1, 1, 1, 1, 1, 1, 1, 1, 1, 1, 1, 1, 1, 1, 1, 1, 1, 1, 1, 1, 1, 1, 2, 1, 1, 1, 1, 1, 1, 1, 1, 1, 1, 1, 1, 1, 1, 1, 1, 1, 1, 1, 1, 1, 1, 1, 1, 1, 1, 1, 1, 1, 1, 1, 1, 1, 1, 1])"
      ]
     },
     "execution_count": 41,
     "metadata": {},
     "output_type": "execute_result"
    }
   ],
   "source": [
    "# Your code here\n",
    "import collections\n",
    "import matplotlib.pyplot as plt\n",
    "import numpy as np\n",
    "\n",
    "words = {}\n",
    "\n",
    "for x in macbeth.split(\" \"):\n",
    "    x = x.replace(\".\",\"\")\n",
    "    x = x.replace(\"!\",\"\")\n",
    "    x = x.replace(\"?\",\"\")\n",
    "    x = x.replace(\",\",\"\")\n",
    "    x = x.replace(\"(\", \"\")\n",
    "    x = x.replace(\")\", \"\")\n",
    "    x = x.replace(\"/\",\"\")\n",
    "    x = x.replace(\"=\",\"\")\n",
    "    \n",
    "    if ('\\n' not in x) and ('\\r' not in x) and ('*' not in x):\n",
    "        if not(any(char.isdigit() for char in x)):\n",
    "            if not(x.isupper()) and x != \"\":\n",
    "                x = x.lower()\n",
    "                if x not in words:\n",
    "                    words[x] = 1\n",
    "                else:\n",
    "                    words[x] += 1\n",
    "                    \n",
    "counter = collections.Counter(words)\n",
    "# Pseudo-code Outline\n",
    "# Split the transcript into words\n",
    "# Create a dictionary\n",
    "# Iterate through the text of Macbeth\n",
    "# Update word counts\n",
    "# Create Bar Graph\n",
    "# Include descriptive titles and labels\n",
    "counter.most_common(25)\n",
    "\n",
    "labels = counter.keys()\n",
    "values = counter.values()\n",
    "\n",
    "index = np.arange(len(labels))\n",
    "plt.bar(index, values)\n",
    "plt.xlabel('Word', fontsize=5)\n",
    "plt.ylabel('No of Movies', fontsize=5)\n",
    "plt.xticks(index, label, fontsize=5, rotation=30)\n",
    "plt.title('Market Share for Each Genre 1995-2017')\n",
    "plt.show()"
   ]
  },
  {
   "cell_type": "markdown",
   "metadata": {},
   "source": [
    "### Level Up (Optional)\n",
    "This project should take you about an hour and a half to complete. If you're done much more quickly than that and are not behind in the course, feel free to deepen your knowledge by completing any or all of the following tasks until you run out of time:\n",
    "* Create a list of top characters by mentions of their names \n",
    "* Split the text by which character is talking\n",
    "* Create sub graphs of the most common words by character\n",
    "* Reduce the string to the text of the play itself. (Remove any initial notes, forward, introduction, appendix, etc.)\n",
    "* Come up with some other fun analyses of the text!"
   ]
  },
  {
   "cell_type": "markdown",
   "metadata": {},
   "source": [
    "## Summary\n",
    "Congratulations! You've got some extra practice combining various data types into useful programming patterns and done an intitial analysis of a classic text!"
   ]
  }
 ],
 "metadata": {
  "kernelspec": {
   "display_name": "Python 3",
   "language": "python",
   "name": "python3"
  },
  "language_info": {
   "codemirror_mode": {
    "name": "ipython",
    "version": 3
   },
   "file_extension": ".py",
   "mimetype": "text/x-python",
   "name": "python",
   "nbconvert_exporter": "python",
   "pygments_lexer": "ipython3",
   "version": "3.6.6"
  }
 },
 "nbformat": 4,
 "nbformat_minor": 2
}
